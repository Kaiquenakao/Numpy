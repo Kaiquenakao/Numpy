{
 "cells": [
  {
   "cell_type": "code",
   "execution_count": 1,
   "id": "dcebeeeb",
   "metadata": {},
   "outputs": [],
   "source": [
    "# Importação da biblioteca Numpy\n",
    "import numpy as np"
   ]
  },
  {
   "cell_type": "code",
   "execution_count": 3,
   "id": "aa8bb15a",
   "metadata": {},
   "outputs": [
    {
     "data": {
      "text/plain": [
       "array([0, 1, 2, 3, 4, 5, 6, 7, 8, 9])"
      ]
     },
     "execution_count": 3,
     "metadata": {},
     "output_type": "execute_result"
    }
   ],
   "source": [
    "arr = np.arange(10)\n",
    "arr"
   ]
  },
  {
   "cell_type": "code",
   "execution_count": 6,
   "id": "51290722",
   "metadata": {},
   "outputs": [
    {
     "data": {
      "text/plain": [
       "array([0.        , 1.        , 1.41421356, 1.73205081, 2.        ,\n",
       "       2.23606798, 2.44948974, 2.64575131, 2.82842712, 3.        ])"
      ]
     },
     "execution_count": 6,
     "metadata": {},
     "output_type": "execute_result"
    }
   ],
   "source": [
    "np.sqrt(arr) # Numpy tem uma função para fazer a raiz quadrada de cada elemento"
   ]
  },
  {
   "cell_type": "code",
   "execution_count": 8,
   "id": "f12494b6",
   "metadata": {},
   "outputs": [
    {
     "data": {
      "text/plain": [
       "array([1.00000000e+00, 2.71828183e+00, 7.38905610e+00, 2.00855369e+01,\n",
       "       5.45981500e+01, 1.48413159e+02, 4.03428793e+02, 1.09663316e+03,\n",
       "       2.98095799e+03, 8.10308393e+03])"
      ]
     },
     "execution_count": 8,
     "metadata": {},
     "output_type": "execute_result"
    }
   ],
   "source": [
    "np.exp(arr)"
   ]
  },
  {
   "cell_type": "code",
   "execution_count": 9,
   "id": "f57edcdf",
   "metadata": {},
   "outputs": [],
   "source": [
    "# os de cima são funções unárias (ufuncs unárias). Já os de baixo são ufuncs binárias porque aceitam dois arrays\n",
    "# e devolve um unico array como resultado:"
   ]
  },
  {
   "cell_type": "code",
   "execution_count": 11,
   "id": "a6f9dec9",
   "metadata": {},
   "outputs": [
    {
     "data": {
      "text/plain": [
       "array([ 0.54813644, -0.75637393,  0.27070444, -2.13950814, -1.20072772,\n",
       "        0.42495924, -1.59906608,  0.1998819 ])"
      ]
     },
     "execution_count": 11,
     "metadata": {},
     "output_type": "execute_result"
    }
   ],
   "source": [
    "x = np.random.randn(8)\n",
    "x"
   ]
  },
  {
   "cell_type": "code",
   "execution_count": 13,
   "id": "1ca55127",
   "metadata": {},
   "outputs": [
    {
     "data": {
      "text/plain": [
       "array([-0.77666901, -1.30429365,  0.23913197, -1.96583334, -0.99377862,\n",
       "        0.21218599, -0.88903544,  2.54554638])"
      ]
     },
     "execution_count": 13,
     "metadata": {},
     "output_type": "execute_result"
    }
   ],
   "source": [
    "y = np.random.randn(8)\n",
    "y"
   ]
  },
  {
   "cell_type": "code",
   "execution_count": 15,
   "id": "9a8e1baa",
   "metadata": {},
   "outputs": [
    {
     "data": {
      "text/plain": [
       "array([ 0.54813644, -0.75637393,  0.27070444, -1.96583334, -0.99377862,\n",
       "        0.42495924, -0.88903544,  2.54554638])"
      ]
     },
     "execution_count": 15,
     "metadata": {},
     "output_type": "execute_result"
    }
   ],
   "source": [
    "np.maximum(x, y) # Comparação de dados e retorna o valor mais alto"
   ]
  },
  {
   "cell_type": "code",
   "execution_count": 18,
   "id": "7a4e144d",
   "metadata": {},
   "outputs": [
    {
     "data": {
      "text/plain": [
       "array([-4.95618107, -7.12083626,  3.41192576,  5.90298891, -6.34723039,\n",
       "       -4.21387001,  2.31229336])"
      ]
     },
     "execution_count": 18,
     "metadata": {},
     "output_type": "execute_result"
    }
   ],
   "source": [
    "arr = np.random.randn(7) * 5\n",
    "arr"
   ]
  },
  {
   "cell_type": "code",
   "execution_count": 19,
   "id": "e2e3c5b3",
   "metadata": {},
   "outputs": [
    {
     "data": {
      "text/plain": [
       "(array([-0.95618107, -0.12083626,  0.41192576,  0.90298891, -0.34723039,\n",
       "        -0.21387001,  0.31229336]),\n",
       " array([-4., -7.,  3.,  5., -6., -4.,  2.]))"
      ]
     },
     "execution_count": 19,
     "metadata": {},
     "output_type": "execute_result"
    }
   ],
   "source": [
    "np.modf(arr) # primeiro array é o restante do -4 Exemplo o segundo array é -4 porém tem um restante e esse restante foi\n",
    "# atribuido para array de cima\n"
   ]
  },
  {
   "cell_type": "code",
   "execution_count": 24,
   "id": "32e840bd",
   "metadata": {},
   "outputs": [],
   "source": [
    "remainder, whole_part = np.modf(arr)"
   ]
  },
  {
   "cell_type": "code",
   "execution_count": 26,
   "id": "eeaa3be0",
   "metadata": {},
   "outputs": [
    {
     "data": {
      "text/plain": [
       "array([-0.95618107, -0.12083626,  0.41192576,  0.90298891, -0.34723039,\n",
       "       -0.21387001,  0.31229336])"
      ]
     },
     "execution_count": 26,
     "metadata": {},
     "output_type": "execute_result"
    }
   ],
   "source": [
    "remainder"
   ]
  },
  {
   "cell_type": "code",
   "execution_count": 27,
   "id": "cf7e1809",
   "metadata": {},
   "outputs": [
    {
     "data": {
      "text/plain": [
       "array([-4., -7.,  3.,  5., -6., -4.,  2.])"
      ]
     },
     "execution_count": 27,
     "metadata": {},
     "output_type": "execute_result"
    }
   ],
   "source": [
    "whole_part"
   ]
  },
  {
   "cell_type": "code",
   "execution_count": 28,
   "id": "989de155",
   "metadata": {},
   "outputs": [
    {
     "data": {
      "text/plain": [
       "array([-4.95618107, -7.12083626,  3.41192576,  5.90298891, -6.34723039,\n",
       "       -4.21387001,  2.31229336])"
      ]
     },
     "execution_count": 28,
     "metadata": {},
     "output_type": "execute_result"
    }
   ],
   "source": [
    "arr"
   ]
  },
  {
   "cell_type": "code",
   "execution_count": 29,
   "id": "1c7dd27a",
   "metadata": {},
   "outputs": [
    {
     "name": "stderr",
     "output_type": "stream",
     "text": [
      "<ipython-input-29-b58949107b3d>:1: RuntimeWarning: invalid value encountered in sqrt\n",
      "  np.sqrt(arr)\n"
     ]
    },
    {
     "data": {
      "text/plain": [
       "array([       nan,        nan, 1.84713989, 2.42960674,        nan,\n",
       "              nan, 1.52062269])"
      ]
     },
     "execution_count": 29,
     "metadata": {},
     "output_type": "execute_result"
    }
   ],
   "source": [
    "np.sqrt(arr)"
   ]
  },
  {
   "cell_type": "code",
   "execution_count": 33,
   "id": "b8fd8c1a",
   "metadata": {},
   "outputs": [
    {
     "data": {
      "text/plain": [
       "array([       nan,        nan, 1.35909525, 1.55871958,        nan,\n",
       "              nan, 1.23313531])"
      ]
     },
     "execution_count": 33,
     "metadata": {},
     "output_type": "execute_result"
    }
   ],
   "source": [
    "np.sqrt(arr, arr) # in-place no array, segundo parametro muda o array"
   ]
  },
  {
   "cell_type": "code",
   "execution_count": 32,
   "id": "5ab664a8",
   "metadata": {},
   "outputs": [
    {
     "data": {
      "text/plain": [
       "array([       nan,        nan, 1.84713989, 2.42960674,        nan,\n",
       "              nan, 1.52062269])"
      ]
     },
     "execution_count": 32,
     "metadata": {},
     "output_type": "execute_result"
    }
   ],
   "source": [
    "arr # array mudado"
   ]
  },
  {
   "cell_type": "code",
   "execution_count": 59,
   "id": "1f244744",
   "metadata": {},
   "outputs": [
    {
     "data": {
      "text/plain": [
       "array([ 0.64707499,  1.90668753,  1.26025681, -1.46437928,  0.93038936,\n",
       "       -0.10606576,  1.08250269, -1.26550848,  0.41226027, -0.91618353])"
      ]
     },
     "execution_count": 59,
     "metadata": {},
     "output_type": "execute_result"
    }
   ],
   "source": [
    "arr = np.array([ 0.64707499,  1.90668753,  1.26025681, -1.46437928,  0.93038936,\n",
    "       -0.10606576,  1.08250269, -1.26550848,  0.41226027, -0.91618353])\n",
    "arr"
   ]
  },
  {
   "cell_type": "code",
   "execution_count": 39,
   "id": "6d254cb6",
   "metadata": {},
   "outputs": [
    {
     "data": {
      "text/plain": [
       "array([ 1.64707499,  2.90668753,  2.26025681, -0.46437928,  1.93038936,\n",
       "        0.89393424,  2.08250269, -0.26550848,  1.41226027,  0.08381647])"
      ]
     },
     "execution_count": 39,
     "metadata": {},
     "output_type": "execute_result"
    }
   ],
   "source": [
    "np.add(arr, 1) # recebe array e soma + 1\n",
    "np.subtract(arr, 1) # recebe array e subtrai -1\n",
    "np.multiply(arr, 1) # recebe array e multiplica\n",
    "np.divide(arr, 1) # divide\n",
    "np.power(arr, 3) # eleva e cuidado com o + 1"
   ]
  },
  {
   "cell_type": "code",
   "execution_count": 61,
   "id": "6c8e4fa9",
   "metadata": {},
   "outputs": [
    {
     "data": {
      "text/plain": [
       "array([1.        , 1.90668753, 1.26025681, 1.        , 1.        ,\n",
       "       1.        , 1.08250269, 1.        , 1.        , 1.        ])"
      ]
     },
     "execution_count": 61,
     "metadata": {},
     "output_type": "execute_result"
    }
   ],
   "source": [
    "np.fmax(arr, 1) # máximo de todos os elementos, se eles forem ponto fluante do segundo parametro aparecem"
   ]
  },
  {
   "cell_type": "code",
   "execution_count": 60,
   "id": "bd7ea200",
   "metadata": {},
   "outputs": [
    {
     "data": {
      "text/plain": [
       "array([ 0.64707499,  1.        ,  1.        , -1.46437928,  0.93038936,\n",
       "       -0.10606576,  1.        , -1.26550848,  0.41226027, -0.91618353])"
      ]
     },
     "execution_count": 60,
     "metadata": {},
     "output_type": "execute_result"
    }
   ],
   "source": [
    "np.fmin(arr, 1) # mínimo de todos os elementos, se eles estiverem abaixo ou seja ponto fluante eles aparecem"
   ]
  },
  {
   "cell_type": "code",
   "execution_count": 64,
   "id": "7e650ca8",
   "metadata": {},
   "outputs": [
    {
     "data": {
      "text/plain": [
       "array([0.64707499, 1.90668753, 1.26025681, 0.53562072, 0.93038936,\n",
       "       1.89393424, 1.08250269, 0.73449152, 0.41226027, 1.08381647])"
      ]
     },
     "execution_count": 64,
     "metadata": {},
     "output_type": "execute_result"
    }
   ],
   "source": [
    "np.mod(arr, 2) # módulo de todos os elementos "
   ]
  },
  {
   "cell_type": "code",
   "execution_count": 66,
   "id": "130a971f",
   "metadata": {},
   "outputs": [
    {
     "data": {
      "text/plain": [
       "array([0.64707499, 1.90668753, 1.26025681, 1.46437928, 0.93038936,\n",
       "       0.10606576, 1.08250269, 1.26550848, 0.41226027, 0.91618353])"
      ]
     },
     "execution_count": 66,
     "metadata": {},
     "output_type": "execute_result"
    }
   ],
   "source": [
    "np.copysign(arr, 1) # apenas copia o sinal"
   ]
  },
  {
   "cell_type": "code",
   "execution_count": null,
   "id": "eb4c802d",
   "metadata": {},
   "outputs": [],
   "source": []
  }
 ],
 "metadata": {
  "kernelspec": {
   "display_name": "Python 3",
   "language": "python",
   "name": "python3"
  },
  "language_info": {
   "codemirror_mode": {
    "name": "ipython",
    "version": 3
   },
   "file_extension": ".py",
   "mimetype": "text/x-python",
   "name": "python",
   "nbconvert_exporter": "python",
   "pygments_lexer": "ipython3",
   "version": "3.9.4"
  }
 },
 "nbformat": 4,
 "nbformat_minor": 5
}
