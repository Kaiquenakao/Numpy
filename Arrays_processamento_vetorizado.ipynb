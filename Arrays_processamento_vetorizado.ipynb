{
 "cells": [
  {
   "cell_type": "code",
   "execution_count": 3,
   "id": "b001875f",
   "metadata": {},
   "outputs": [],
   "source": [
    "# numpy\n",
    "\n",
    "# um objeto array multidimensional ndarray rápido e eficiente;\n",
    "# funções para efetuar processamentos em todos os elementos de arrays ou operações matemáticas entre arrays;\n",
    "# ferramentas para ler e gravar conjuntos de dados baseados em arrays em disco;\n",
    "# operações de álgebra linear, transformadas de Fourier e geração de números aleatórios;\n",
    "# uma API C madura para permitir que extensões Python e códigos C ou C++ nativos acessem as estruturas de dados e os recursos -\n",
    "# de processamento da Numpy."
   ]
  },
  {
   "cell_type": "code",
   "execution_count": 4,
   "id": "1937e751",
   "metadata": {},
   "outputs": [],
   "source": [
    "# importação\n",
    "# Numpy foi projetado para ser eficaz em arrays de dados grandes invés do Pandas\n",
    "import numpy as np"
   ]
  },
  {
   "cell_type": "code",
   "execution_count": 13,
   "id": "a365e280",
   "metadata": {},
   "outputs": [
    {
     "name": "stdout",
     "output_type": "stream",
     "text": [
      "Wall time: 995 µs\n"
     ]
    }
   ],
   "source": [
    "# teste de tempo\n",
    "\n",
    "my_arr = np.arange(100000)\n",
    "my_list = list(range(100000))"
   ]
  },
  {
   "cell_type": "code",
   "execution_count": 12,
   "id": "8632ea73",
   "metadata": {},
   "outputs": [
    {
     "name": "stdout",
     "output_type": "stream",
     "text": [
      "Wall time: 42.9 ms\n"
     ]
    }
   ],
   "source": [
    "%time for _ in range(10): my_list2 = [x * 2 for x in my_list]"
   ]
  },
  {
   "cell_type": "code",
   "execution_count": 17,
   "id": "47a46d8b",
   "metadata": {},
   "outputs": [
    {
     "name": "stdout",
     "output_type": "stream",
     "text": [
      "Wall time: 999 µs\n"
     ]
    }
   ],
   "source": [
    "%time for _ in range(10): my_arr2 = my_arr * 2"
   ]
  },
  {
   "cell_type": "code",
   "execution_count": 18,
   "id": "60442c8d",
   "metadata": {},
   "outputs": [],
   "source": [
    "# Gera alguns dados aleatórios\n",
    "data = np.random.randn(2, 3)"
   ]
  },
  {
   "cell_type": "code",
   "execution_count": 19,
   "id": "7c1605e5",
   "metadata": {},
   "outputs": [
    {
     "data": {
      "text/plain": [
       "array([[ 0.16307609, -0.66733311,  0.44879542],\n",
       "       [-0.54962657,  1.26727628, -0.85250202]])"
      ]
     },
     "execution_count": 19,
     "metadata": {},
     "output_type": "execute_result"
    }
   ],
   "source": [
    "data"
   ]
  },
  {
   "cell_type": "code",
   "execution_count": 21,
   "id": "6cd11057",
   "metadata": {},
   "outputs": [
    {
     "data": {
      "text/plain": [
       "array([[ 1.63076087, -6.67333113,  4.48795416],\n",
       "       [-5.49626568, 12.67276277, -8.52502022]])"
      ]
     },
     "execution_count": 21,
     "metadata": {},
     "output_type": "execute_result"
    }
   ],
   "source": [
    "# Operaçoes matemáticas com data\n",
    "data * 10"
   ]
  },
  {
   "cell_type": "code",
   "execution_count": 22,
   "id": "fb535475",
   "metadata": {},
   "outputs": [
    {
     "data": {
      "text/plain": [
       "array([[ 0.32615217, -1.33466623,  0.89759083],\n",
       "       [-1.09925314,  2.53455255, -1.70500404]])"
      ]
     },
     "execution_count": 22,
     "metadata": {},
     "output_type": "execute_result"
    }
   ],
   "source": [
    "data + data"
   ]
  },
  {
   "cell_type": "code",
   "execution_count": 23,
   "id": "7bc9eccb",
   "metadata": {},
   "outputs": [
    {
     "data": {
      "text/plain": [
       "(2, 3)"
      ]
     },
     "execution_count": 23,
     "metadata": {},
     "output_type": "execute_result"
    }
   ],
   "source": [
    "# shape uma tupla que indica o tamanho de cada dimensão e dtype, que é um objeto que descreve o tipo de dado do array\n",
    "data.shape"
   ]
  },
  {
   "cell_type": "code",
   "execution_count": 24,
   "id": "1e26cfdf",
   "metadata": {},
   "outputs": [
    {
     "data": {
      "text/plain": [
       "dtype('float64')"
      ]
     },
     "execution_count": 24,
     "metadata": {},
     "output_type": "execute_result"
    }
   ],
   "source": [
    "data.dtype"
   ]
  },
  {
   "cell_type": "code",
   "execution_count": null,
   "id": "0ae821cf",
   "metadata": {},
   "outputs": [],
   "source": []
  }
 ],
 "metadata": {
  "kernelspec": {
   "display_name": "Python 3",
   "language": "python",
   "name": "python3"
  },
  "language_info": {
   "codemirror_mode": {
    "name": "ipython",
    "version": 3
   },
   "file_extension": ".py",
   "mimetype": "text/x-python",
   "name": "python",
   "nbconvert_exporter": "python",
   "pygments_lexer": "ipython3",
   "version": "3.9.4"
  }
 },
 "nbformat": 4,
 "nbformat_minor": 5
}
